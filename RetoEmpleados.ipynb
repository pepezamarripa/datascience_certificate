{
  "nbformat": 4,
  "nbformat_minor": 0,
  "metadata": {
    "colab": {
      "provenance": [],
      "authorship_tag": "ABX9TyNv8WWNdnIeAlrn8SgS0/pu",
      "include_colab_link": true
    },
    "kernelspec": {
      "name": "python3",
      "display_name": "Python 3"
    },
    "language_info": {
      "name": "python"
    }
  },
  "cells": [
    {
      "cell_type": "markdown",
      "metadata": {
        "id": "view-in-github",
        "colab_type": "text"
      },
      "source": [
        "<a href=\"https://colab.research.google.com/github/pepezamarripa/datascience_certificate/blob/main/RetoEmpleados.ipynb\" target=\"_parent\"><img src=\"https://colab.research.google.com/assets/colab-badge.svg\" alt=\"Open In Colab\"/></a>"
      ]
    },
    {
      "cell_type": "markdown",
      "source": [
        "Importamos las librerías necesarias"
      ],
      "metadata": {
        "id": "j4XDv0LZjGoP"
      }
    },
    {
      "cell_type": "code",
      "execution_count": null,
      "metadata": {
        "id": "PJoz5uEuh4DH"
      },
      "outputs": [],
      "source": [
        "import pandas as pd\n",
        "from datetime import datetime\n",
        "from sklearn.preprocessing import MinMaxScaler\n",
        "from sklearn.preprocessing import LabelEncoder\n",
        "from sklearn.decomposition import PCA\n",
        "\n"
      ]
    },
    {
      "cell_type": "code",
      "source": [
        "# Importo el fichero empleadosReto.csv\n",
        "archivo_csv = \"empleadosRETO.csv\"\n",
        "\n",
        "# Creo el DF EmpleadosAttrtion\n",
        "EmpleadosAttrition = pd.read_csv(archivo_csv)\n",
        "\n",
        "# Extraigo las características del DF\n",
        "caracteristicas_EmpleadosAttrition = EmpleadosAttrition.dtypes\n",
        "\n",
        "# Muestro los las características\n",
        "print(caracteristicas_EmpleadosAttrition)\n",
        "\n",
        "# Muestro los primeros valores del DF\n",
        "print(EmpleadosAttrition.head())"
      ],
      "metadata": {
        "id": "6hmQTw5wjaO4"
      },
      "execution_count": null,
      "outputs": []
    },
    {
      "cell_type": "markdown",
      "source": [
        "Eliminar las columnas que no tienen relación con la salida deseada"
      ],
      "metadata": {
        "id": "q5MYg_yTl9M3"
      }
    },
    {
      "cell_type": "code",
      "source": [
        "# Elimino las columnas\n",
        "columnas_eliminar = ['EmployeeCount', 'EmployeeNumber', 'Over18', 'StandardHours']\n",
        "EmpleadosAttrtion = EmpleadosAttrition.drop(columns=columnas_eliminar)\n",
        "\n",
        "# Muestro las columnas\n",
        "print(caracteristicas_EmpleadosAttrition)\n",
        "\n",
        "# Muestro los primeros valores del DF\n",
        "print(EmpleadosAttrition.head())"
      ],
      "metadata": {
        "id": "66myYO7EmFFg"
      },
      "execution_count": null,
      "outputs": []
    },
    {
      "cell_type": "markdown",
      "source": [
        "Creo la columna YearsInCompany para determinar cuánto tiempo tiene un trabajador en la compañía.\n",
        "\n",
        "La columna HiringDate tiene fechas en formato MM/DD/YY y MM/DD/YYYY. Para porder calcular la columna YearsInCompany es necesario procesar las fechas que tienen el formato MM/DD/YY"
      ],
      "metadata": {
        "id": "YYh5KUDfpaqD"
      }
    },
    {
      "cell_type": "code",
      "source": [
        "# Creo la columna HiringYear con los últimos dos dígitos de HiringDate\n",
        "EmpleadosAttrition['HiringYear'] = EmpleadosAttrition['HiringDate'].str[-2:]\n",
        "\n",
        "# Obtengo el año actual en formato 'YY'\n",
        "currentYear = datetime.now().strftime('%y')\n",
        "\n",
        "# Comparo el valor de HiringYear con currentYear.\n",
        "# Si el valor de currentYear > a HiringYear => agrego un '20' antes de HiringYear.\n",
        "# En caso contrario, agrego un '19'\n",
        "EmpleadosAttrition['HiringYear'] = EmpleadosAttrition.apply(lambda row: '20' + row['HiringYear'] if row['HiringYear'] < currentYear else '19' + row['HiringYear'], axis=1)\n",
        "\n",
        "# Ahora, calcularé la oolumna YearsAtCompany\n",
        "# Obtengo el año actual en formato 'YYYY'\n",
        "currentYear = datetime.now().strftime('%Y')\n",
        "\n",
        "# Creo la columna YearsAtCompany calculando la diferencia de años\n",
        "EmpleadosAttrition['YearsAtCompany'] = pd.to_numeric(currentYear) - pd.to_numeric(EmpleadosAttrition['HiringYear'])\n"
      ],
      "metadata": {
        "id": "UDCqhTQhpaNd"
      },
      "execution_count": null,
      "outputs": []
    },
    {
      "cell_type": "markdown",
      "source": [
        "Calcular la columna DistanceFromHome"
      ],
      "metadata": {
        "id": "iDHVIQ24e_xk"
      }
    },
    {
      "cell_type": "code",
      "source": [
        "# Renombro la columna DistanceFromHome a DistanceFromHome_km\n",
        "EmpleadosAttrition.rename(columns={'DistanceFromHome': 'DistanceFromHome_km'}, inplace=True)\n",
        "\n",
        "# Creo la nueva columna DistanceFromHome eliminando el término 'km' y convirtiéndola en integer\n",
        "EmpleadosAttrition['DistanceFromHome'] = EmpleadosAttrition['DistanceFromHome_km'].str.extract('(\\d+)').astype(int)\n"
      ],
      "metadata": {
        "id": "9yUEMrNshKAd"
      },
      "execution_count": null,
      "outputs": []
    },
    {
      "cell_type": "code",
      "source": [
        "# Elimino las columnas HiringDate, HiringYear y DistanceFromHome_km\n",
        "columnas_a_eliminar = ['HiringDate', 'HiringYear', 'DistanceFromHome_km']\n",
        "EmpleadosAttrition = EmpleadosAttrition.drop(columnas_a_eliminar, axis=1)\n"
      ],
      "metadata": {
        "id": "apUW72BIitJH"
      },
      "execution_count": null,
      "outputs": []
    },
    {
      "cell_type": "markdown",
      "source": [
        "Creación del DataFrame SueldoPromedioDepto"
      ],
      "metadata": {
        "id": "SxzfWBjglHAF"
      }
    },
    {
      "cell_type": "code",
      "source": [
        "# Creo el DataFrame SueldoPromedioDepto con el promedio de MonthlyIncome por Department\n",
        "SueldoPromedioDepto = EmpleadosAttrition.groupby('Department')['MonthlyIncome'].mean().reset_index()\n",
        "SueldoPromedioDepto.rename(columns={'MonthlyIncome' : 'SueldoPromedio'}, inplace=True)\n",
        "\n",
        "print(SueldoPromedioDepto)"
      ],
      "metadata": {
        "id": "8szjIBPxjHmx"
      },
      "execution_count": null,
      "outputs": []
    },
    {
      "cell_type": "markdown",
      "source": [
        "Escalar la columna MonthlyIncome"
      ],
      "metadata": {
        "id": "JBuyb6FQpdhB"
      }
    },
    {
      "cell_type": "code",
      "source": [
        "scaler = MinMaxScaler()\n",
        "EmpleadosAttrition['MonthlyIncome_scaled'] = scaler.fit_transform(EmpleadosAttrition[['MonthlyIncome']])"
      ],
      "metadata": {
        "id": "satsd0UQpkNn"
      },
      "execution_count": null,
      "outputs": []
    },
    {
      "cell_type": "markdown",
      "source": [
        "Convertir las variables categóricas a variables numéricas"
      ],
      "metadata": {
        "id": "bbwkXCTls5IE"
      }
    },
    {
      "cell_type": "code",
      "source": [
        "# Aplico Label Encoding a todas las variables categóricas\n",
        "label_encoder = LabelEncoder()\n",
        "\n",
        "EmpleadosAttrition['BusinessTravel_Label'] = label_encoder.fit_transform(EmpleadosAttrition['BusinessTravel'])\n",
        "EmpleadosAttrition['Department_Label'] = label_encoder.fit_transform(EmpleadosAttrition['Department'])\n",
        "EmpleadosAttrition['EducationField_Label'] = label_encoder.fit_transform(EmpleadosAttrition['EducationField'])\n",
        "EmpleadosAttrition['Gender_Label'] = label_encoder.fit_transform(EmpleadosAttrition['Gender'])\n",
        "EmpleadosAttrition['JobRole_Label'] = label_encoder.fit_transform(EmpleadosAttrition['JobRole'])\n",
        "EmpleadosAttrition['MaritalStatus_Label'] = label_encoder.fit_transform(EmpleadosAttrition['MaritalStatus'])\n",
        "EmpleadosAttrition['OverTime_Label'] = label_encoder.fit_transform(EmpleadosAttrition['OverTime'])\n",
        "EmpleadosAttrition['Attrition_Label'] = label_encoder.fit_transform(EmpleadosAttrition['Attrition'])\n",
        "\n",
        "\n",
        "# Elimino las columnas originales categóricas\n",
        "columnas_categoricas = ['BusinessTravel', 'Department', 'EducationField', 'Gender', 'JobRole', 'MaritalStatus', 'OverTime', 'Attrition']\n",
        "EmpleadosAttrition = EmpleadosAttrition.drop(columnas_categoricas, axis=1)\n"
      ],
      "metadata": {
        "id": "ZImeqUqZtDRt"
      },
      "execution_count": null,
      "outputs": []
    },
    {
      "cell_type": "markdown",
      "source": [
        "Calcular la correlación lineal de cada una de las variables con respecto a Attrition."
      ],
      "metadata": {
        "id": "aVUuW2Mgtn0V"
      }
    },
    {
      "cell_type": "code",
      "source": [
        "# Calculo la correlación de Pearson para cada variable con respecto a Attrition_Label\n",
        "correlaciones = EmpleadosAttrition.corr()['Attrition_Label'].sort_values(ascending=False)\n",
        "\n",
        "# Muestro las correlaciones\n",
        "print(correlaciones)"
      ],
      "metadata": {
        "id": "vNqwXyuitwJ6"
      },
      "execution_count": null,
      "outputs": []
    },
    {
      "cell_type": "code",
      "source": [
        "# Selecciono las variables con correlación mayor o igual a 0.1 en valores absolutos\n",
        "variables_seleccionadas = correlaciones[abs(correlaciones) >= 0.1].index\n",
        "print(variables_seleccionadas)\n",
        "\n",
        "# Creo el DataFrame EmpleadosAttritionFinal con las variables seleccionadas\n",
        "EmpleadosAttritionFinal = EmpleadosAttrition[variables_seleccionadas]"
      ],
      "metadata": {
        "id": "B4jVFHhEwF7P"
      },
      "execution_count": null,
      "outputs": []
    },
    {
      "cell_type": "code",
      "source": [
        "# Aplico el PCA a las variables seleccionadas\n",
        "pca = PCA()\n",
        "EmpleadosAttritionPCA_array = pca.fit_transform(EmpleadosAttritionFinal)\n",
        "\n",
        "# Determino el número mínimo de componentes para explicar el 80% de la varianza\n",
        "varianza_acumulativa = pca.explained_variance_ratio_.cumsum()\n",
        "num_componentes = (varianza_acumulativa < 0.8).sum() + 1\n",
        "\n",
        "# Obtengo solo el número necesario de componentes principales\n",
        "EmpleadosAttritionPCA_min = pd.DataFrame(EmpleadosAttritionPCA_array[:, :num_componentes], columns=[f'C{i}' for i in range(num_componentes)])\n",
        "\n",
        "# Ajusto el orden de las columnas en EmpleadosAttritionFinal\n",
        "columnas_ordenadas = list(EmpleadosAttritionFinal.columns) + list(EmpleadosAttritionPCA_min.columns)\n",
        "EmpleadosAttritionFinal = EmpleadosAttritionFinal[columnas_ordenadas]\n",
        "\n",
        "# Guardo el DataFrame en el fichero csv EmpleadosAttritionFinal\n",
        "EmpleadosAttritionFinal.to_csv(\"EmpleadosAttritionFinal.csv\", index=False)"
      ],
      "metadata": {
        "id": "_dwZMnyy4cQs"
      },
      "execution_count": null,
      "outputs": []
    }
  ]
}