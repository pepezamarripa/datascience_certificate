{
  "nbformat": 4,
  "nbformat_minor": 0,
  "metadata": {
    "colab": {
      "provenance": [],
      "authorship_tag": "ABX9TyMiZ5AlXE9MH2W6kEnBgHtB",
      "include_colab_link": true
    },
    "kernelspec": {
      "name": "python3",
      "display_name": "Python 3"
    },
    "language_info": {
      "name": "python"
    }
  },
  "cells": [
    {
      "cell_type": "markdown",
      "metadata": {
        "id": "view-in-github",
        "colab_type": "text"
      },
      "source": [
        "<a href=\"https://colab.research.google.com/github/pepezamarripa/datascience_certificate/blob/main/SC23_Reto_Zamarripa_JoseAntonio.ipynb\" target=\"_parent\"><img src=\"https://colab.research.google.com/assets/colab-badge.svg\" alt=\"Open In Colab\"/></a>"
      ]
    },
    {
      "cell_type": "markdown",
      "source": [
        "Instalo librerías"
      ],
      "metadata": {
        "id": "Ojp-PMbbPGQ5"
      }
    },
    {
      "cell_type": "code",
      "execution_count": null,
      "metadata": {
        "id": "vv4pRzZYONys"
      },
      "outputs": [],
      "source": [
        "!pip install pandas\n",
        "!pip install openpyxl"
      ]
    },
    {
      "cell_type": "markdown",
      "source": [
        "Importo las librerías necesarias"
      ],
      "metadata": {
        "id": "7vA8E6RtPTby"
      }
    },
    {
      "cell_type": "code",
      "source": [
        "import pandas as pd\n",
        "import openpyxl"
      ],
      "metadata": {
        "id": "ql_1R46BPV8R"
      },
      "execution_count": null,
      "outputs": []
    },
    {
      "cell_type": "markdown",
      "source": [
        "Importo los ficheros .csv"
      ],
      "metadata": {
        "id": "iqDAi5owPfda"
      }
    },
    {
      "cell_type": "code",
      "source": [
        "# Rutas de los ficheros CSV\n",
        "csv_files = ['test.csv', 'test2.csv', 'train.csv', 'train2.csv']\n",
        "\n",
        "# Nombres de los DataFrames\n",
        "df_names = ['test_df', 'test2_df', 'train_df', 'train2_df']"
      ],
      "metadata": {
        "id": "_WBalzUEPkGE"
      },
      "execution_count": null,
      "outputs": []
    },
    {
      "cell_type": "markdown",
      "source": [
        "Asigno los ficheros a los DataFrames"
      ],
      "metadata": {
        "id": "_g4SO2cCPw87"
      }
    },
    {
      "cell_type": "code",
      "source": [
        "# Crear los DataFrames y asignarles los nombres definidos en df_names\n",
        "for file, name in zip(csv_files, df_names):\n",
        "    df = pd.read_csv(file)\n",
        "    globals()[name] = df"
      ],
      "metadata": {
        "id": "XyQwHeHPP2Rv"
      },
      "execution_count": null,
      "outputs": []
    },
    {
      "cell_type": "markdown",
      "source": [
        "Creo el DataFrame master_test, que tendrá los dataframes test_df y test2_df"
      ],
      "metadata": {
        "id": "P2AeUYBjRd4g"
      }
    },
    {
      "cell_type": "code",
      "source": [
        "# Realizar la unión (inner join) basada en la columna Employee_ID\n",
        "master_test = pd.merge(test_df, test2_df, on='Employee_ID', how='inner')\n",
        "\n",
        "# Verificar el DataFrame resultante\n",
        "print(master_test.head())"
      ],
      "metadata": {
        "id": "vpRqjDJuRlc2"
      },
      "execution_count": null,
      "outputs": []
    },
    {
      "cell_type": "markdown",
      "source": [
        "Creo el DataFrame master_train, que tendrá los DataFrames train_df y train2_df"
      ],
      "metadata": {
        "id": "GRAUxWRnRrbB"
      }
    },
    {
      "cell_type": "code",
      "source": [
        "# Realizar la unión (inner join) basada en la columna Employee_ID\n",
        "master_train = pd.merge(train_df, train2_df, on='Employee_ID', how='inner')\n",
        "\n",
        "# Verificar el DataFrame resultante\n",
        "print(master_train.head())"
      ],
      "metadata": {
        "id": "Gtb8FwJXR1Cm"
      },
      "execution_count": null,
      "outputs": []
    },
    {
      "cell_type": "markdown",
      "source": [
        "Obtengo las filas y columnas de todos los dataframes creados hasta ahora para validar que el inner join se ha realizado correctamente"
      ],
      "metadata": {
        "id": "e3-qAUanSKXa"
      }
    },
    {
      "cell_type": "code",
      "source": [
        "#DataFrames originales\n",
        "\n",
        "# Test: Obtener el número de filas y columnas\n",
        "num_rows, num_columns = test_df.shape\n",
        "\n",
        "# Imprimir los resultados\n",
        "print(f\"test_df:\")\n",
        "print(f\"Número de filas: {num_rows}\")\n",
        "print(f\"Número de columnas: {num_columns}\")\n",
        "\n",
        "# Test2: Obtener el número de filas y columnas\n",
        "num_rows, num_columns = test2_df.shape\n",
        "\n",
        "# Imprimir los resultados\n",
        "print(f\"test2_df:\")\n",
        "print(f\"Número de filas: {num_rows}\")\n",
        "print(f\"Número de columnas: {num_columns}\")\n",
        "\n",
        "# Train: Obtener el número de filas y columnas\n",
        "num_rows, num_columns = train_df.shape\n",
        "\n",
        "# Imprimir los resultados\n",
        "print(f\"train_df:\")\n",
        "print(f\"Número de filas: {num_rows}\")\n",
        "print(f\"Número de columnas: {num_columns}\")\n",
        "\n",
        "# Train2: Obtener el número de filas y columnas\n",
        "num_rows, num_columns = train2_df.shape\n",
        "\n",
        "# Imprimir los resultados\n",
        "print(f\"train2_df:\")\n",
        "print(f\"Número de filas: {num_rows}\")\n",
        "print(f\"Número de columnas: {num_columns}\")\n",
        "\n",
        "#DataFrames nuevos\n",
        "# Master test: Obtener el número de filas y columnas\n",
        "num_rows, num_columns = master_test.shape\n",
        "\n",
        "# Imprimir los resultados\n",
        "print(f\"Master test:\")\n",
        "print(f\"Número de filas: {num_rows}\")\n",
        "print(f\"Número de columnas: {num_columns}\")\n",
        "\n",
        "# Master train: Obtener el número de filas y columnas\n",
        "num_rows, num_columns = master_train.shape\n",
        "\n",
        "# Imprimir los resultados\n",
        "print(f\"Master train:\")\n",
        "print(f\"Número de filas: {num_rows}\")\n",
        "print(f\"Número de columnas: {num_columns}\")"
      ],
      "metadata": {
        "id": "g0M1KDO-SOKi"
      },
      "execution_count": null,
      "outputs": []
    },
    {
      "cell_type": "markdown",
      "source": [
        "No coinciden los números de columnas en los DataFrames master_test y master_train. Antes de hacer un merge, necesito identificar cuál es la columna que no coincide"
      ],
      "metadata": {
        "id": "OBKyQJ9LT-FU"
      }
    },
    {
      "cell_type": "code",
      "source": [
        "# Obtener los nombres de las columnas de master_test\n",
        "columns_master_test = master_test.columns.tolist()\n",
        "\n",
        "# Obtener los nombres de las columnas de master_train\n",
        "columns_master_train = master_train.columns.tolist()\n",
        "\n",
        "# Imprimir los resultados\n",
        "print(\"Nombres de columnas en master_test:\")\n",
        "print(columns_master_test)\n",
        "\n",
        "print(\"\\nNombres de columnas en master_train:\")\n",
        "print(columns_master_train)"
      ],
      "metadata": {
        "id": "dbLaKrj2Wv0e"
      },
      "execution_count": null,
      "outputs": []
    },
    {
      "cell_type": "markdown",
      "source": [
        "Dado que el DataFrame master_test no tiene la columna \"Attrition rate\" y esta columna no es necesaria para los cálculos, haré el concat de ambos dataframes y añadiré un NaN a las filas de master_test."
      ],
      "metadata": {
        "id": "_6RIQo5bXcG4"
      }
    },
    {
      "cell_type": "code",
      "source": [
        "# Agregar la columna \"Attrition_rate\" con valores NaN a master_test\n",
        "master_test['Attrition_rate'] = float('NaN')\n",
        "\n",
        "# Unir master_test y master_train basado en las columnas coincidentes\n",
        "master_df = pd.concat([master_test, master_train], ignore_index=True)\n",
        "\n",
        "# Imprimir los primeros registros del DataFrame combinado\n",
        "print(master_df.head())"
      ],
      "metadata": {
        "id": "Vkf-DQncYSpr"
      },
      "execution_count": null,
      "outputs": []
    },
    {
      "cell_type": "markdown",
      "source": [
        "Cuento las filas y columnas del dataframe master_df"
      ],
      "metadata": {
        "id": "gDsciT4nYkCu"
      }
    },
    {
      "cell_type": "code",
      "source": [
        "# Master test: Obtener el número de filas y columnas\n",
        "num_rows, num_columns = master_df.shape\n",
        "\n",
        "# Imprimir los resultados\n",
        "print(f\"Master df:\")\n",
        "print(f\"Número de filas: {num_rows}\")\n",
        "print(f\"Número de columnas: {num_columns}\")"
      ],
      "metadata": {
        "id": "BNpv7kDdYpVc",
        "colab": {
          "base_uri": "https://localhost:8080/"
        },
        "outputId": "4a861795-6bd1-44bc-a00e-c2fe78e57aae"
      },
      "execution_count": null,
      "outputs": [
        {
          "output_type": "stream",
          "name": "stdout",
          "text": [
            "Master df:\n",
            "Número de filas: 10000\n",
            "Número de columnas: 30\n"
          ]
        }
      ]
    },
    {
      "cell_type": "markdown",
      "source": [
        "Para todos los registros que no tienen un valor para un sistema operativo, ya sea de su computadora o de su dispositivo móvil, asignar el valor “no registrado“"
      ],
      "metadata": {
        "id": "D--PH-cBaYsy"
      }
    },
    {
      "cell_type": "code",
      "source": [
        "# Llenar los registros vacíos en las columnas \"Computer_OS\" y \"Mobile_OS\" con \"No registrado\"\n",
        "master_df[\" Computer_OS\"].fillna(\"No registrado\", inplace=True)\n",
        "master_df[\" Mobile_OS\"].fillna(\"No registrado\", inplace=True)\n",
        "\n",
        "print(f\"Se ha asignado exitosamente el valor 'no registrado' a todos aqullos registros que no tienen un valor en sistema operativo \")"
      ],
      "metadata": {
        "id": "Sa5xWXhiacLv"
      },
      "execution_count": null,
      "outputs": []
    },
    {
      "cell_type": "markdown",
      "source": [
        "a. El porcentaje de personas que usan Windows / Mac / Linux / No registrado como su sistema operativo en su computadora."
      ],
      "metadata": {
        "id": "ozcD2UBScKuY"
      }
    },
    {
      "cell_type": "code",
      "source": [
        "# Calcular la frecuencia de cada valor en la columna \"Computer_OS\"\n",
        "computerOS_count = master_df[\" Computer_OS\"].value_counts()\n",
        "\n",
        "# Calcular el porcentaje de cada valor\n",
        "computerOS_percentage = (computerOS_count / len(master_df)) * 100\n",
        "\n",
        "# Imprimir los resultados\n",
        "print(\"Frecuencia de valores en la columna Computer_OS:\")\n",
        "print(computerOS_count)\n",
        "print(\"\\nPorcentaje de valores en la columna Computer_OS:\")\n",
        "print(computerOS_percentage)"
      ],
      "metadata": {
        "id": "PeHX4jePejGt"
      },
      "execution_count": null,
      "outputs": []
    },
    {
      "cell_type": "markdown",
      "source": [
        "b. El porcentaje de personas que usan iOS / Android / No registrado como su sistema operativo en su dispositivo móvil."
      ],
      "metadata": {
        "id": "ne0PzW8hfnXj"
      }
    },
    {
      "cell_type": "code",
      "source": [
        "# Calcular la frecuencia de cada valor en la columna \"Mobile_OS\"\n",
        "mobileOS_count = master_df[\" Mobile_OS\"].value_counts()\n",
        "\n",
        "# Calcular el porcentaje de cada valor\n",
        "mobileOS_percentage = (mobileOS_count / len(master_df)) * 100\n",
        "\n",
        "# Imprimir los resultados\n",
        "print(\"Frecuencia de valores en la columna Computer_OS:\")\n",
        "print(mobileOS_count)\n",
        "print(\"\\nPorcentaje de valores en la columna Computer_OS:\")\n",
        "print(mobileOS_percentage)"
      ],
      "metadata": {
        "id": "nlalFgpxftK_"
      },
      "execution_count": null,
      "outputs": []
    },
    {
      "cell_type": "markdown",
      "source": [
        "c. La edad promedio de la gente que utiliza cada sistema operativo de escritorio."
      ],
      "metadata": {
        "id": "pmrsUM2igCeR"
      }
    },
    {
      "cell_type": "code",
      "source": [
        "# Calcular la edad promedio para cada valor en la columna \"Computer_OS\"\n",
        "average_age_computerOS = master_df.groupby(\" Computer_OS\")[\"Age\"].mean()\n",
        "\n",
        "# Imprimir los resultados\n",
        "print(\"Edad promedio por valor en la columna Computer_OS:\")\n",
        "print(average_age_computerOS)"
      ],
      "metadata": {
        "id": "87t7ksENg1nj"
      },
      "execution_count": null,
      "outputs": []
    },
    {
      "cell_type": "markdown",
      "source": [
        "d. El nivel educativo promedio de la gente que utiliza cada sistema operativo de escritorio."
      ],
      "metadata": {
        "id": "bMyvvlNOhrs0"
      }
    },
    {
      "cell_type": "code",
      "source": [
        "# Calcular el nivel educativo promedio para cada valor en la columna \"Computer_OS\"\n",
        "average_education_computerOS = master_df.groupby(\" Computer_OS\")[\"Education_Level\"].mean()\n",
        "\n",
        "# Imprimir los resultados\n",
        "print(\"Nivel educativo promedio por valor en la columna Computer_OS:\")\n",
        "print(average_education_computerOS)"
      ],
      "metadata": {
        "id": "FFkCd9fThuY6"
      },
      "execution_count": null,
      "outputs": []
    },
    {
      "cell_type": "markdown",
      "source": [
        "e. El número total de tickets generados por la gente con cada sistema operativo de escritorio"
      ],
      "metadata": {
        "id": "AVZmrJ13iCwa"
      }
    },
    {
      "cell_type": "code",
      "source": [
        "# Calcular el total de tickets para cada valor en la columna \"Computer_OS\"\n",
        "total_tickets_computerOS = master_df.groupby(\" Computer_OS\")[\" Computer_tickets\"].sum()\n",
        "\n",
        "# Imprimir los resultados\n",
        "print(\"Número total de tickets creados por valor en la columna Computer_OS:\")\n",
        "print(total_tickets_computerOS)"
      ],
      "metadata": {
        "id": "lAec3VEsiSau"
      },
      "execution_count": null,
      "outputs": []
    },
    {
      "cell_type": "markdown",
      "source": [
        "Creamos el fichero de excel con los resultados"
      ],
      "metadata": {
        "id": "Z4mNoraPjkUg"
      }
    },
    {
      "cell_type": "code",
      "source": [
        "\n",
        "# Crear un fichero de Excel y un libro de trabajo\n",
        "excel_filename = \"SC23_Reto_Zamarripa_JoseAntonio.xlsx\"\n",
        "\n",
        "# Crear un libro de trabajo\n",
        "workbook = openpyxl.Workbook()\n",
        "workbook.remove(workbook.active)\n",
        "\n",
        "with pd.ExcelWriter(excel_filename, engine=\"openpyxl\") as writer:\n",
        "    writer.book = workbook\n",
        "    master_df.to_excel(writer, sheet_name=\"master_df\", index=False)\n",
        "    computerOS_percentage.to_excel(writer, sheet_name=\"computerOS_percentage\")\n",
        "    mobileOS_percentage.to_excel(writer, sheet_name=\"mobileOS_percentage\")\n",
        "    average_age_computerOS.to_excel(writer, sheet_name=\"average_age_computerOS\")\n",
        "    average_education_computerOS.to_excel(writer, sheet_name=\"average_education_computerOS\")\n",
        "    total_tickets_computerOS.to_excel(writer, sheet_name=\"total_tickets_computerOS\")\n",
        "\n",
        "print(f\"Archivo de Excel guardado exitosamente como {excel_filename}\")"
      ],
      "metadata": {
        "colab": {
          "base_uri": "https://localhost:8080/"
        },
        "id": "OJbrSwPXjnEV",
        "outputId": "9f76d0ef-6611-4a1c-86dc-8af1e70565da"
      },
      "execution_count": null,
      "outputs": [
        {
          "output_type": "stream",
          "name": "stderr",
          "text": [
            "<ipython-input-40-f3cfd88e1a3f>:9: FutureWarning: Setting the `book` attribute is not part of the public API, usage can give unexpected or corrupted results and will be removed in a future version\n",
            "  writer.book = workbook\n"
          ]
        },
        {
          "output_type": "stream",
          "name": "stdout",
          "text": [
            "Archivo de Excel guardado exitosamente como SC23_Reto_Zamarripa_JoseAntonio.xlsx\n"
          ]
        }
      ]
    }
  ]
}