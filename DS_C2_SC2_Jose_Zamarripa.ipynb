{
  "nbformat": 4,
  "nbformat_minor": 0,
  "metadata": {
    "colab": {
      "provenance": [],
      "authorship_tag": "ABX9TyMGhpFKH7lNNugksA10M87S",
      "include_colab_link": true
    },
    "kernelspec": {
      "name": "python3",
      "display_name": "Python 3"
    },
    "language_info": {
      "name": "python"
    }
  },
  "cells": [
    {
      "cell_type": "markdown",
      "metadata": {
        "id": "view-in-github",
        "colab_type": "text"
      },
      "source": [
        "<a href=\"https://colab.research.google.com/github/pepezamarripa/datasciencecoursera/blob/main/DS_C2_SC2_Jose_Zamarripa.ipynb\" target=\"_parent\"><img src=\"https://colab.research.google.com/assets/colab-badge.svg\" alt=\"Open In Colab\"/></a>"
      ]
    },
    {
      "cell_type": "markdown",
      "source": [
        "Reto | Análisis del progreso mundial de vacunación\n",
        "José Zamarripa"
      ],
      "metadata": {
        "id": "C5iMcaKZF7Zt"
      }
    },
    {
      "cell_type": "code",
      "source": [
        "!pip install openpyxl\n",
        "!pip install pandas\n",
        "\n",
        "import pandas as pd\n",
        "import csv"
      ],
      "metadata": {
        "colab": {
          "base_uri": "https://localhost:8080/"
        },
        "id": "6R_ShCFhI4SN",
        "outputId": "9d5fa4ff-e836-4ff6-f7fa-49bbef8492ca"
      },
      "execution_count": null,
      "outputs": [
        {
          "output_type": "stream",
          "name": "stdout",
          "text": [
            "Requirement already satisfied: openpyxl in /usr/local/lib/python3.10/dist-packages (3.1.2)\n",
            "Requirement already satisfied: et-xmlfile in /usr/local/lib/python3.10/dist-packages (from openpyxl) (1.1.0)\n",
            "Requirement already satisfied: pandas in /usr/local/lib/python3.10/dist-packages (1.5.3)\n",
            "Requirement already satisfied: python-dateutil>=2.8.1 in /usr/local/lib/python3.10/dist-packages (from pandas) (2.8.2)\n",
            "Requirement already satisfied: pytz>=2020.1 in /usr/local/lib/python3.10/dist-packages (from pandas) (2023.3)\n",
            "Requirement already satisfied: numpy>=1.21.0 in /usr/local/lib/python3.10/dist-packages (from pandas) (1.23.5)\n",
            "Requirement already satisfied: six>=1.5 in /usr/local/lib/python3.10/dist-packages (from python-dateutil>=2.8.1->pandas) (1.16.0)\n"
          ]
        }
      ]
    },
    {
      "cell_type": "markdown",
      "source": [
        "a. Extraer la información del archivo"
      ],
      "metadata": {
        "id": "ZMFJcxvXGL-l"
      }
    },
    {
      "cell_type": "code",
      "execution_count": null,
      "metadata": {
        "id": "Vvgd9bCyFlt4"
      },
      "outputs": [],
      "source": [
        "\n",
        "# Abre el archivo CSV en modo lectura\n",
        "with open('country_vaccinations.csv', 'r') as csv_file:\n",
        "    csv_reader = csv.reader(csv_file)"
      ]
    },
    {
      "cell_type": "markdown",
      "source": [
        "b. Mostrar la estructura y tipos de datos de cada columna para identificar qué operaciones puedes realizar con cada una de ellas, asegurándote que las columnas con fechas sean del tipo datetime 64"
      ],
      "metadata": {
        "id": "4pKOhI2MIRoK"
      }
    },
    {
      "cell_type": "code",
      "source": [
        "# Crea un dataframe usando el fichero country_vaccinations.csv\n",
        "df = pd.read_csv('country_vaccinations.csv')\n",
        "\n",
        "# Convierte la columna 'date' al tipo datetime64 si es necesario\n",
        "df['date'] = pd.to_datetime(df['date'])\n",
        "\n",
        "# Muestra la estructura y tipo de datos del datafame\n",
        "print(\"\\nEstructura y tipo de datos del dataframe:\")\n",
        "print(df.info())"
      ],
      "metadata": {
        "id": "LHSesO14I-In",
        "colab": {
          "base_uri": "https://localhost:8080/"
        },
        "outputId": "d888b04d-1e28-4e64-a49b-dd19db5217e4"
      },
      "execution_count": null,
      "outputs": [
        {
          "output_type": "stream",
          "name": "stdout",
          "text": [
            "\n",
            "Estructura y tipo de datos del dataframe:\n",
            "<class 'pandas.core.frame.DataFrame'>\n",
            "RangeIndex: 86512 entries, 0 to 86511\n",
            "Data columns (total 15 columns):\n",
            " #   Column                               Non-Null Count  Dtype         \n",
            "---  ------                               --------------  -----         \n",
            " 0   country                              86512 non-null  object        \n",
            " 1   iso_code                             86512 non-null  object        \n",
            " 2   date                                 86512 non-null  datetime64[ns]\n",
            " 3   total_vaccinations                   43607 non-null  float64       \n",
            " 4   people_vaccinated                    41294 non-null  float64       \n",
            " 5   people_fully_vaccinated              38802 non-null  float64       \n",
            " 6   daily_vaccinations_raw               35362 non-null  float64       \n",
            " 7   daily_vaccinations                   86213 non-null  float64       \n",
            " 8   total_vaccinations_per_hundred       43607 non-null  float64       \n",
            " 9   people_vaccinated_per_hundred        41294 non-null  float64       \n",
            " 10  people_fully_vaccinated_per_hundred  38802 non-null  float64       \n",
            " 11  daily_vaccinations_per_million       86213 non-null  float64       \n",
            " 12  vaccines                             86512 non-null  object        \n",
            " 13  source_name                          86512 non-null  object        \n",
            " 14  source_website                       86512 non-null  object        \n",
            "dtypes: datetime64[ns](1), float64(9), object(5)\n",
            "memory usage: 9.9+ MB\n",
            "None\n"
          ]
        }
      ]
    },
    {
      "cell_type": "markdown",
      "source": [
        "c. Determinar la cantidad de vacunas aplicadas de cada compañía"
      ],
      "metadata": {
        "id": "Pf_c5RtIeU5d"
      }
    },
    {
      "cell_type": "code",
      "source": [
        "# Separa los nombres de las vacunas en cada celda y crea una nueva fila por cada vacuna\n",
        "vaccine_list = df['vaccines'].str.split(', ').explode()\n",
        "\n",
        "# Agrupa por las vacunas y suma las cantidades\n",
        "vaccine_counts = vaccine_list.value_counts()\n",
        "\n",
        "# Muestra el resultado\n",
        "print(vaccine_counts)"
      ],
      "metadata": {
        "id": "Svf5YvImeg3J",
        "colab": {
          "base_uri": "https://localhost:8080/"
        },
        "outputId": "b6e29141-fd9f-4261-cc8c-eae24a08fb25"
      },
      "execution_count": null,
      "outputs": [
        {
          "output_type": "stream",
          "name": "stdout",
          "text": [
            "Oxford/AstraZeneca    71331\n",
            "Pfizer/BioNTech       64193\n",
            "Moderna               37417\n",
            "Johnson&Johnson       35949\n",
            "Sinopharm/Beijing     34638\n",
            "Sputnik V             23060\n",
            "Sinovac               19892\n",
            "Novavax                4935\n",
            "Covaxin                3435\n",
            "Sputnik Light          3116\n",
            "CanSino                3073\n",
            "Soberana02             1527\n",
            "Abdala                 1493\n",
            "ZF2001                 1008\n",
            "Sinopharm/Wuhan         919\n",
            "EpiVacCorona            660\n",
            "QazVac                  613\n",
            "Turkovac                441\n",
            "COVIran Barekat         415\n",
            "FAKHRAVAC               415\n",
            "Razi Cov Pars           415\n",
            "SpikoGen                415\n",
            "Medigen                 374\n",
            "Soberana Plus           320\n",
            "Name: vaccines, dtype: int64\n"
          ]
        }
      ]
    },
    {
      "cell_type": "markdown",
      "source": [
        "d. Obtener la cantidad de vacunas aplicadas en todo el mundo"
      ],
      "metadata": {
        "id": "Ihyj44GGfaAH"
      }
    },
    {
      "cell_type": "code",
      "source": [
        "# Suma la columna 'daily_vaccinations' por país\n",
        "total_vaccinations_byCountry = df.groupby('country')['daily_vaccinations'].sum()\n",
        "\n",
        "# Muestra el resultado\n",
        "print(total_vaccinations_byCountry)\n",
        "\n",
        "# Suma la columna 'daily_vaccinations' por país\n",
        "total_vaccinations = df['daily_vaccinations'].sum()\n",
        "\n",
        "# Muestra el resultado\n",
        "print('Vacunas aplicadas en todo el mundo: ', total_vaccinations)\n"
      ],
      "metadata": {
        "id": "0fb_4R0VgJYj",
        "colab": {
          "base_uri": "https://localhost:8080/"
        },
        "outputId": "419256db-8904-41bc-8f23-78c09da7a038"
      },
      "execution_count": null,
      "outputs": [
        {
          "output_type": "stream",
          "name": "stdout",
          "text": [
            "country\n",
            "Afghanistan           5741998.0\n",
            "Albania               2748980.0\n",
            "Algeria              13697360.0\n",
            "Andorra                151499.0\n",
            "Angola               17435547.0\n",
            "                        ...    \n",
            "Wales                 6859138.0\n",
            "Wallis and Futuna       12538.0\n",
            "Yemen                  794952.0\n",
            "Zambia                3367782.0\n",
            "Zimbabwe              8754303.0\n",
            "Name: daily_vaccinations, Length: 223, dtype: float64\n",
            "Vacunas aplicadas en todo el mundo:  11320239871.0\n"
          ]
        }
      ]
    },
    {
      "cell_type": "markdown",
      "source": [
        "e. Calcular el proemdio de vacunas aplicadas por país"
      ],
      "metadata": {
        "id": "xuyFFSpPjGRg"
      }
    },
    {
      "cell_type": "code",
      "source": [
        "# Agrupa por país y calcula el número de fechas únicas y la suma de vacunas por país\n",
        "grouped_data = df.groupby('country').agg({'date': 'nunique', 'daily_vaccinations': 'sum'})\n",
        "\n",
        "# Renombrar las columnas\n",
        "grouped_data = grouped_data.rename(columns={'date': 'Numero_de_Fechas', 'daily_vaccinations': 'Numero_de_Vacunas'})\n",
        "\n",
        "# Calcula el promedio por país (Numero de Vacunas dividido por Numero de Fechas)\n",
        "grouped_data['Promedio_por_pais'] = grouped_data['Numero_de_Vacunas'] / grouped_data['Numero_de_Fechas']\n",
        "\n",
        "# Muestra el resultado\n",
        "print(grouped_data)"
      ],
      "metadata": {
        "id": "adTpE-BEjKK4",
        "colab": {
          "base_uri": "https://localhost:8080/"
        },
        "outputId": "85624088-e798-407b-ea86-7168dc7104a1"
      },
      "execution_count": null,
      "outputs": [
        {
          "output_type": "stream",
          "name": "stdout",
          "text": [
            "                   Numero_de_Fechas  Numero_de_Vacunas  Promedio_por_pais\n",
            "country                                                                  \n",
            "Afghanistan                     394          5741998.0       14573.598985\n",
            "Albania                         439          2748980.0        6261.913440\n",
            "Algeria                         405         13697360.0       33820.641975\n",
            "Andorra                         413           151499.0         366.825666\n",
            "Angola                          390         17435547.0       44706.530769\n",
            "...                             ...                ...                ...\n",
            "Wales                           443          6859138.0       15483.381490\n",
            "Wallis and Futuna               371            12538.0          33.795148\n",
            "Yemen                           312           794952.0        2547.923077\n",
            "Zambia                          350          3367782.0        9622.234286\n",
            "Zimbabwe                        405          8754303.0       21615.562963\n",
            "\n",
            "[223 rows x 3 columns]\n"
          ]
        }
      ]
    },
    {
      "cell_type": "markdown",
      "source": [
        "f. Determinar la cantidad de vacunas aplicadas el día 29/01/21 en todo el mundo"
      ],
      "metadata": {
        "id": "Qm-AYS7jxFNZ"
      }
    },
    {
      "cell_type": "code",
      "source": [
        " #Filtra el DataFrame por la fecha 29/01/21\n",
        "date_to_filter = pd.to_datetime('2021-01-29')\n",
        "filtered_df = df[df['date'] == date_to_filter]\n",
        "\n",
        "# Suma la columna 'daily_vaccinations' para obtener la cantidad total de vacunas aplicadas en esa fecha\n",
        "total_vaccines_on_29th = filtered_df['daily_vaccinations'].sum()\n",
        "\n",
        "# Muestra el resultado\n",
        "print(\"Cantidad de vacunas aplicadas el 29/01/21:\", total_vaccines_on_29th)"
      ],
      "metadata": {
        "id": "OSe8xyytxZJQ",
        "colab": {
          "base_uri": "https://localhost:8080/"
        },
        "outputId": "4b669a3f-1b44-4048-a39d-6e6d4361647f"
      },
      "execution_count": null,
      "outputs": [
        {
          "output_type": "stream",
          "name": "stdout",
          "text": [
            "Cantidad de vacunas aplicadas el 29/01/21: 4884052.0\n"
          ]
        }
      ]
    },
    {
      "cell_type": "markdown",
      "source": [
        "g. Crear un df nuevo denominado conDiferencias que contenga los datos originales y una columna derivada (diferencias) con las diferencias de palicación entre las columnas daily_vaccinations y daily_vaccinations_raw"
      ],
      "metadata": {
        "id": "F83iAQRcydQQ"
      }
    },
    {
      "cell_type": "code",
      "source": [
        "# Carga el archivo CSV en un DataFrame de pandas\n",
        "conDiferencias = pd.read_csv('country_vaccinations.csv')\n",
        "\n",
        "# Crea una nueva columna llamada 'diferencias' que contenga la diferencia entre 'daily_vaccinations' y 'daily_vaccinations_raw'\n",
        "conDiferencias['diferencias'] = conDiferencias['daily_vaccinations'] - conDiferencias['daily_vaccinations_raw']\n",
        "\n",
        "# Muestra el nuevo DataFrame con la columna de diferencias\n",
        "print(conDiferencias)"
      ],
      "metadata": {
        "id": "_Mo5hgUAy71H",
        "colab": {
          "base_uri": "https://localhost:8080/"
        },
        "outputId": "2d8ccb6e-1043-40bc-ed54-4ab7121165e7"
      },
      "execution_count": null,
      "outputs": [
        {
          "output_type": "stream",
          "name": "stdout",
          "text": [
            "           country iso_code        date  total_vaccinations  \\\n",
            "0      Afghanistan      AFG  2021-02-22                 0.0   \n",
            "1      Afghanistan      AFG  2021-02-23                 NaN   \n",
            "2      Afghanistan      AFG  2021-02-24                 NaN   \n",
            "3      Afghanistan      AFG  2021-02-25                 NaN   \n",
            "4      Afghanistan      AFG  2021-02-26                 NaN   \n",
            "...            ...      ...         ...                 ...   \n",
            "86507     Zimbabwe      ZWE  2022-03-25           8691642.0   \n",
            "86508     Zimbabwe      ZWE  2022-03-26           8791728.0   \n",
            "86509     Zimbabwe      ZWE  2022-03-27           8845039.0   \n",
            "86510     Zimbabwe      ZWE  2022-03-28           8934360.0   \n",
            "86511     Zimbabwe      ZWE  2022-03-29           9039729.0   \n",
            "\n",
            "       people_vaccinated  people_fully_vaccinated  daily_vaccinations_raw  \\\n",
            "0                    0.0                      NaN                     NaN   \n",
            "1                    NaN                      NaN                     NaN   \n",
            "2                    NaN                      NaN                     NaN   \n",
            "3                    NaN                      NaN                     NaN   \n",
            "4                    NaN                      NaN                     NaN   \n",
            "...                  ...                      ...                     ...   \n",
            "86507          4814582.0                3473523.0                139213.0   \n",
            "86508          4886242.0                3487962.0                100086.0   \n",
            "86509          4918147.0                3493763.0                 53311.0   \n",
            "86510          4975433.0                3501493.0                 89321.0   \n",
            "86511          5053114.0                3510256.0                105369.0   \n",
            "\n",
            "       daily_vaccinations  total_vaccinations_per_hundred  \\\n",
            "0                     NaN                            0.00   \n",
            "1                  1367.0                             NaN   \n",
            "2                  1367.0                             NaN   \n",
            "3                  1367.0                             NaN   \n",
            "4                  1367.0                             NaN   \n",
            "...                   ...                             ...   \n",
            "86507             69579.0                           57.59   \n",
            "86508             83429.0                           58.25   \n",
            "86509             90629.0                           58.61   \n",
            "86510            100614.0                           59.20   \n",
            "86511            103751.0                           59.90   \n",
            "\n",
            "       people_vaccinated_per_hundred  people_fully_vaccinated_per_hundred  \\\n",
            "0                               0.00                                  NaN   \n",
            "1                                NaN                                  NaN   \n",
            "2                                NaN                                  NaN   \n",
            "3                                NaN                                  NaN   \n",
            "4                                NaN                                  NaN   \n",
            "...                              ...                                  ...   \n",
            "86507                          31.90                                23.02   \n",
            "86508                          32.38                                23.11   \n",
            "86509                          32.59                                23.15   \n",
            "86510                          32.97                                23.20   \n",
            "86511                          33.48                                23.26   \n",
            "\n",
            "       daily_vaccinations_per_million  \\\n",
            "0                                 NaN   \n",
            "1                                34.0   \n",
            "2                                34.0   \n",
            "3                                34.0   \n",
            "4                                34.0   \n",
            "...                               ...   \n",
            "86507                          4610.0   \n",
            "86508                          5528.0   \n",
            "86509                          6005.0   \n",
            "86510                          6667.0   \n",
            "86511                          6874.0   \n",
            "\n",
            "                                                vaccines  \\\n",
            "0      Johnson&Johnson, Oxford/AstraZeneca, Pfizer/Bi...   \n",
            "1      Johnson&Johnson, Oxford/AstraZeneca, Pfizer/Bi...   \n",
            "2      Johnson&Johnson, Oxford/AstraZeneca, Pfizer/Bi...   \n",
            "3      Johnson&Johnson, Oxford/AstraZeneca, Pfizer/Bi...   \n",
            "4      Johnson&Johnson, Oxford/AstraZeneca, Pfizer/Bi...   \n",
            "...                                                  ...   \n",
            "86507  Oxford/AstraZeneca, Sinopharm/Beijing, Sinovac...   \n",
            "86508  Oxford/AstraZeneca, Sinopharm/Beijing, Sinovac...   \n",
            "86509  Oxford/AstraZeneca, Sinopharm/Beijing, Sinovac...   \n",
            "86510  Oxford/AstraZeneca, Sinopharm/Beijing, Sinovac...   \n",
            "86511  Oxford/AstraZeneca, Sinopharm/Beijing, Sinovac...   \n",
            "\n",
            "                     source_name  \\\n",
            "0      World Health Organization   \n",
            "1      World Health Organization   \n",
            "2      World Health Organization   \n",
            "3      World Health Organization   \n",
            "4      World Health Organization   \n",
            "...                          ...   \n",
            "86507         Ministry of Health   \n",
            "86508         Ministry of Health   \n",
            "86509         Ministry of Health   \n",
            "86510         Ministry of Health   \n",
            "86511         Ministry of Health   \n",
            "\n",
            "                                          source_website  diferencias  \n",
            "0                               https://covid19.who.int/          NaN  \n",
            "1                               https://covid19.who.int/          NaN  \n",
            "2                               https://covid19.who.int/          NaN  \n",
            "3                               https://covid19.who.int/          NaN  \n",
            "4                               https://covid19.who.int/          NaN  \n",
            "...                                                  ...          ...  \n",
            "86507  https://www.arcgis.com/home/webmap/viewer.html...     -69634.0  \n",
            "86508  https://www.arcgis.com/home/webmap/viewer.html...     -16657.0  \n",
            "86509  https://www.arcgis.com/home/webmap/viewer.html...      37318.0  \n",
            "86510  https://www.arcgis.com/home/webmap/viewer.html...      11293.0  \n",
            "86511  https://www.arcgis.com/home/webmap/viewer.html...      -1618.0  \n",
            "\n",
            "[86512 rows x 16 columns]\n"
          ]
        }
      ]
    },
    {
      "cell_type": "markdown",
      "source": [
        "h. Obtener el periodo de tiempo entre el registro con fecha más reciente y el registro con fecha más antigua"
      ],
      "metadata": {
        "id": "zIaVzk_r0Ewn"
      }
    },
    {
      "cell_type": "code",
      "source": [
        "# Carga el archivo CSV en un DataFrame de pandas\n",
        "df = pd.read_csv('country_vaccinations.csv')\n",
        "\n",
        "# Convierte la columna 'date' al tipo datetime64\n",
        "df['date'] = pd.to_datetime(df['date'])\n",
        "\n",
        "# Encuentra la fecha más reciente y la fecha más antigua en el DataFrame\n",
        "fecha_mas_reciente = df['date'].max()\n",
        "fecha_mas_antigua = df['date'].min()\n",
        "\n",
        "# Calcula la diferencia en días entre la fecha más reciente y la fecha más antigua\n",
        "diferencia_dias = (fecha_mas_reciente - fecha_mas_antigua).days\n",
        "\n",
        "# Muestra el resultado\n",
        "print(\"Días entre la fecha más reciente y la fecha más antigua:\", diferencia_dias)\n"
      ],
      "metadata": {
        "colab": {
          "base_uri": "https://localhost:8080/"
        },
        "id": "BgmOF4fX0MQp",
        "outputId": "892f6cb8-3e86-470e-caa5-569eab741dc1"
      },
      "execution_count": null,
      "outputs": [
        {
          "output_type": "stream",
          "name": "stdout",
          "text": [
            "Días entre la fecha más reciente y la fecha más antigua: 482\n"
          ]
        }
      ]
    },
    {
      "cell_type": "markdown",
      "source": [
        "i. Crear un df nuevo denominado conCantidad que contenga los datos originales y una columna derivada (canVac) con la cantidad de vacunas utilizadas cada día (usar la columna vaccines y separar por caracter)"
      ],
      "metadata": {
        "id": "XwV_WcKYUNYu"
      }
    },
    {
      "cell_type": "code",
      "source": [
        "# Carga el archivo CSV en un DataFrame de pandas\n",
        "conCantidad = pd.read_csv('country_vaccinations.csv')\n",
        "\n",
        "# Agrega la columna 'conVac' que cuente cuántos elementos hay en la columna 'vaccines'\n",
        "conCantidad['conVac'] = conCantidad['vaccines'].apply(lambda x: len(x.split(',')))\n",
        "\n",
        "# Muestra el DataFrame con la nueva columna 'conVac'\n",
        "print(conCantidad)"
      ],
      "metadata": {
        "id": "PW4Gr2abU75k",
        "colab": {
          "base_uri": "https://localhost:8080/"
        },
        "outputId": "77658d4a-a6db-4fa2-eba5-8bc1ba29f28c"
      },
      "execution_count": null,
      "outputs": [
        {
          "output_type": "stream",
          "name": "stdout",
          "text": [
            "           country iso_code        date  total_vaccinations  \\\n",
            "0      Afghanistan      AFG  2021-02-22                 0.0   \n",
            "1      Afghanistan      AFG  2021-02-23                 NaN   \n",
            "2      Afghanistan      AFG  2021-02-24                 NaN   \n",
            "3      Afghanistan      AFG  2021-02-25                 NaN   \n",
            "4      Afghanistan      AFG  2021-02-26                 NaN   \n",
            "...            ...      ...         ...                 ...   \n",
            "86507     Zimbabwe      ZWE  2022-03-25           8691642.0   \n",
            "86508     Zimbabwe      ZWE  2022-03-26           8791728.0   \n",
            "86509     Zimbabwe      ZWE  2022-03-27           8845039.0   \n",
            "86510     Zimbabwe      ZWE  2022-03-28           8934360.0   \n",
            "86511     Zimbabwe      ZWE  2022-03-29           9039729.0   \n",
            "\n",
            "       people_vaccinated  people_fully_vaccinated  daily_vaccinations_raw  \\\n",
            "0                    0.0                      NaN                     NaN   \n",
            "1                    NaN                      NaN                     NaN   \n",
            "2                    NaN                      NaN                     NaN   \n",
            "3                    NaN                      NaN                     NaN   \n",
            "4                    NaN                      NaN                     NaN   \n",
            "...                  ...                      ...                     ...   \n",
            "86507          4814582.0                3473523.0                139213.0   \n",
            "86508          4886242.0                3487962.0                100086.0   \n",
            "86509          4918147.0                3493763.0                 53311.0   \n",
            "86510          4975433.0                3501493.0                 89321.0   \n",
            "86511          5053114.0                3510256.0                105369.0   \n",
            "\n",
            "       daily_vaccinations  total_vaccinations_per_hundred  \\\n",
            "0                     NaN                            0.00   \n",
            "1                  1367.0                             NaN   \n",
            "2                  1367.0                             NaN   \n",
            "3                  1367.0                             NaN   \n",
            "4                  1367.0                             NaN   \n",
            "...                   ...                             ...   \n",
            "86507             69579.0                           57.59   \n",
            "86508             83429.0                           58.25   \n",
            "86509             90629.0                           58.61   \n",
            "86510            100614.0                           59.20   \n",
            "86511            103751.0                           59.90   \n",
            "\n",
            "       people_vaccinated_per_hundred  people_fully_vaccinated_per_hundred  \\\n",
            "0                               0.00                                  NaN   \n",
            "1                                NaN                                  NaN   \n",
            "2                                NaN                                  NaN   \n",
            "3                                NaN                                  NaN   \n",
            "4                                NaN                                  NaN   \n",
            "...                              ...                                  ...   \n",
            "86507                          31.90                                23.02   \n",
            "86508                          32.38                                23.11   \n",
            "86509                          32.59                                23.15   \n",
            "86510                          32.97                                23.20   \n",
            "86511                          33.48                                23.26   \n",
            "\n",
            "       daily_vaccinations_per_million  \\\n",
            "0                                 NaN   \n",
            "1                                34.0   \n",
            "2                                34.0   \n",
            "3                                34.0   \n",
            "4                                34.0   \n",
            "...                               ...   \n",
            "86507                          4610.0   \n",
            "86508                          5528.0   \n",
            "86509                          6005.0   \n",
            "86510                          6667.0   \n",
            "86511                          6874.0   \n",
            "\n",
            "                                                vaccines  \\\n",
            "0      Johnson&Johnson, Oxford/AstraZeneca, Pfizer/Bi...   \n",
            "1      Johnson&Johnson, Oxford/AstraZeneca, Pfizer/Bi...   \n",
            "2      Johnson&Johnson, Oxford/AstraZeneca, Pfizer/Bi...   \n",
            "3      Johnson&Johnson, Oxford/AstraZeneca, Pfizer/Bi...   \n",
            "4      Johnson&Johnson, Oxford/AstraZeneca, Pfizer/Bi...   \n",
            "...                                                  ...   \n",
            "86507  Oxford/AstraZeneca, Sinopharm/Beijing, Sinovac...   \n",
            "86508  Oxford/AstraZeneca, Sinopharm/Beijing, Sinovac...   \n",
            "86509  Oxford/AstraZeneca, Sinopharm/Beijing, Sinovac...   \n",
            "86510  Oxford/AstraZeneca, Sinopharm/Beijing, Sinovac...   \n",
            "86511  Oxford/AstraZeneca, Sinopharm/Beijing, Sinovac...   \n",
            "\n",
            "                     source_name  \\\n",
            "0      World Health Organization   \n",
            "1      World Health Organization   \n",
            "2      World Health Organization   \n",
            "3      World Health Organization   \n",
            "4      World Health Organization   \n",
            "...                          ...   \n",
            "86507         Ministry of Health   \n",
            "86508         Ministry of Health   \n",
            "86509         Ministry of Health   \n",
            "86510         Ministry of Health   \n",
            "86511         Ministry of Health   \n",
            "\n",
            "                                          source_website  conVac  \n",
            "0                               https://covid19.who.int/       4  \n",
            "1                               https://covid19.who.int/       4  \n",
            "2                               https://covid19.who.int/       4  \n",
            "3                               https://covid19.who.int/       4  \n",
            "4                               https://covid19.who.int/       4  \n",
            "...                                                  ...     ...  \n",
            "86507  https://www.arcgis.com/home/webmap/viewer.html...       4  \n",
            "86508  https://www.arcgis.com/home/webmap/viewer.html...       4  \n",
            "86509  https://www.arcgis.com/home/webmap/viewer.html...       4  \n",
            "86510  https://www.arcgis.com/home/webmap/viewer.html...       4  \n",
            "86511  https://www.arcgis.com/home/webmap/viewer.html...       4  \n",
            "\n",
            "[86512 rows x 16 columns]\n"
          ]
        }
      ]
    },
    {
      "cell_type": "markdown",
      "source": [
        "j. Generar un df denominado antes20 con todos los registros que se hayan realizado antes del 20 de diciembre de 2020"
      ],
      "metadata": {
        "id": "zcYMQO7kUpXt"
      }
    },
    {
      "cell_type": "code",
      "source": [
        "# Filtra los registros antes del 20 de diciembre de 2020\n",
        "antes20 = df[df['date'] < '2020-12-20']\n",
        "\n",
        "# Muestra el nuevo DataFrame con los registros antes del 20 de diciembre de 2020\n",
        "print(antes20)\n"
      ],
      "metadata": {
        "id": "liE3fY3AU8mm",
        "colab": {
          "base_uri": "https://localhost:8080/"
        },
        "outputId": "5ab4827a-63b4-46a7-debe-da438f440159"
      },
      "execution_count": null,
      "outputs": [
        {
          "output_type": "stream",
          "name": "stdout",
          "text": [
            "             country iso_code       date  total_vaccinations  \\\n",
            "13403         Canada      CAN 2020-12-14                 5.0   \n",
            "13404         Canada      CAN 2020-12-15               727.0   \n",
            "13405         Canada      CAN 2020-12-16              3025.0   \n",
            "13406         Canada      CAN 2020-12-17              7279.0   \n",
            "13407         Canada      CAN 2020-12-18             11296.0   \n",
            "...              ...      ...        ...                 ...   \n",
            "82362  United States      USA 2020-12-15             84638.0   \n",
            "82363  United States      USA 2020-12-16            244549.0   \n",
            "82364  United States      USA 2020-12-17            517161.0   \n",
            "82365  United States      USA 2020-12-18            933551.0   \n",
            "82366  United States      USA 2020-12-19           1115437.0   \n",
            "\n",
            "       people_vaccinated  people_fully_vaccinated  daily_vaccinations_raw  \\\n",
            "13403                5.0                      NaN                     NaN   \n",
            "13404              727.0                      NaN                   722.0   \n",
            "13405             3025.0                      NaN                  2298.0   \n",
            "13406             7279.0                      NaN                  4254.0   \n",
            "13407            11296.0                      NaN                  4017.0   \n",
            "...                  ...                      ...                     ...   \n",
            "82362            76984.0                   6281.0                 49771.0   \n",
            "82363           231496.0                   6757.0                159911.0   \n",
            "82364           496980.0                   7507.0                272612.0   \n",
            "82365           904656.0                   8718.0                416390.0   \n",
            "82366          1082608.0                   9778.0                181886.0   \n",
            "\n",
            "       daily_vaccinations  total_vaccinations_per_hundred  \\\n",
            "13403                 NaN                            0.00   \n",
            "13404               722.0                            0.00   \n",
            "13405              1510.0                            0.01   \n",
            "13406              2425.0                            0.02   \n",
            "13407              2823.0                            0.03   \n",
            "...                   ...                             ...   \n",
            "82362             27175.0                            0.03   \n",
            "82363             71420.0                            0.07   \n",
            "82364            121718.0                            0.16   \n",
            "82365            180653.0                            0.28   \n",
            "82366            180858.0                            0.34   \n",
            "\n",
            "       people_vaccinated_per_hundred  people_fully_vaccinated_per_hundred  \\\n",
            "13403                           0.00                                  NaN   \n",
            "13404                           0.00                                  NaN   \n",
            "13405                           0.01                                  NaN   \n",
            "13406                           0.02                                  NaN   \n",
            "13407                           0.03                                  NaN   \n",
            "...                              ...                                  ...   \n",
            "82362                           0.02                                  0.0   \n",
            "82363                           0.07                                  0.0   \n",
            "82364                           0.15                                  0.0   \n",
            "82365                           0.27                                  0.0   \n",
            "82366                           0.33                                  0.0   \n",
            "\n",
            "       daily_vaccinations_per_million  \\\n",
            "13403                             NaN   \n",
            "13404                            19.0   \n",
            "13405                            40.0   \n",
            "13406                            64.0   \n",
            "13407                            74.0   \n",
            "...                               ...   \n",
            "82362                            82.0   \n",
            "82363                           215.0   \n",
            "82364                           367.0   \n",
            "82365                           544.0   \n",
            "82366                           545.0   \n",
            "\n",
            "                                                vaccines  \\\n",
            "13403  Johnson&Johnson, Moderna, Oxford/AstraZeneca, ...   \n",
            "13404  Johnson&Johnson, Moderna, Oxford/AstraZeneca, ...   \n",
            "13405  Johnson&Johnson, Moderna, Oxford/AstraZeneca, ...   \n",
            "13406  Johnson&Johnson, Moderna, Oxford/AstraZeneca, ...   \n",
            "13407  Johnson&Johnson, Moderna, Oxford/AstraZeneca, ...   \n",
            "...                                                  ...   \n",
            "82362          Johnson&Johnson, Moderna, Pfizer/BioNTech   \n",
            "82363          Johnson&Johnson, Moderna, Pfizer/BioNTech   \n",
            "82364          Johnson&Johnson, Moderna, Pfizer/BioNTech   \n",
            "82365          Johnson&Johnson, Moderna, Pfizer/BioNTech   \n",
            "82366          Johnson&Johnson, Moderna, Pfizer/BioNTech   \n",
            "\n",
            "                                             source_name  \\\n",
            "13403  Official data from provinces via covid19tracke...   \n",
            "13404  Official data from provinces via covid19tracke...   \n",
            "13405  Official data from provinces via covid19tracke...   \n",
            "13406  Official data from provinces via covid19tracke...   \n",
            "13407  Official data from provinces via covid19tracke...   \n",
            "...                                                  ...   \n",
            "82362         Centers for Disease Control and Prevention   \n",
            "82363         Centers for Disease Control and Prevention   \n",
            "82364         Centers for Disease Control and Prevention   \n",
            "82365         Centers for Disease Control and Prevention   \n",
            "82366         Centers for Disease Control and Prevention   \n",
            "\n",
            "                                          source_website  \n",
            "13403  https://covid19tracker.ca/vaccinationtracker.html  \n",
            "13404  https://covid19tracker.ca/vaccinationtracker.html  \n",
            "13405  https://covid19tracker.ca/vaccinationtracker.html  \n",
            "13406  https://covid19tracker.ca/vaccinationtracker.html  \n",
            "13407  https://covid19tracker.ca/vaccinationtracker.html  \n",
            "...                                                  ...  \n",
            "82362  https://data.cdc.gov/Vaccinations/COVID-19-Vac...  \n",
            "82363  https://data.cdc.gov/Vaccinations/COVID-19-Vac...  \n",
            "82364  https://data.cdc.gov/Vaccinations/COVID-19-Vac...  \n",
            "82365  https://data.cdc.gov/Vaccinations/COVID-19-Vac...  \n",
            "82366  https://data.cdc.gov/Vaccinations/COVID-19-Vac...  \n",
            "\n",
            "[70 rows x 15 columns]\n"
          ]
        }
      ]
    },
    {
      "cell_type": "markdown",
      "source": [
        "k. Obtener un df denominado pfizer con todos los registros donde se haya utilizado la vacuna Pfizer"
      ],
      "metadata": {
        "id": "SoSVh_tiUwEX"
      }
    },
    {
      "cell_type": "code",
      "source": [
        "# Carga el archivo CSV en un DataFrame de pandas\n",
        "pfizer = pd.read_csv('country_vaccinations.csv')\n",
        "\n",
        "# Filtra los registros donde se haya utilizado la vacuna Pfizer\n",
        "pfizer = df[df['vaccines'].str.contains('Pfizer/BioNTech')]\n",
        "\n",
        "# Muestra el nuevo DataFrame con los registros que utilizan la vacuna Pfizer\n",
        "print(pfizer)"
      ],
      "metadata": {
        "id": "Jd2FudI-U9i4",
        "colab": {
          "base_uri": "https://localhost:8080/"
        },
        "outputId": "ae3b148f-ee8d-446d-9bf9-18450ffb5c33"
      },
      "execution_count": null,
      "outputs": [
        {
          "output_type": "stream",
          "name": "stdout",
          "text": [
            "           country  iso_code       date  total_vaccinations  \\\n",
            "0      Afghanistan       AFG 2021-02-22                 0.0   \n",
            "1      Afghanistan       AFG 2021-02-23                 NaN   \n",
            "2      Afghanistan       AFG 2021-02-24                 NaN   \n",
            "3      Afghanistan       AFG 2021-02-25                 NaN   \n",
            "4      Afghanistan       AFG 2021-02-26                 NaN   \n",
            "...            ...       ...        ...                 ...   \n",
            "85069        Wales  OWID_WLS 2022-03-24           6921195.0   \n",
            "85070        Wales  OWID_WLS 2022-03-25           6923298.0   \n",
            "85071        Wales  OWID_WLS 2022-03-26           6923706.0   \n",
            "85072        Wales  OWID_WLS 2022-03-27           6925183.0   \n",
            "85073        Wales  OWID_WLS 2022-03-28           6927437.0   \n",
            "\n",
            "       people_vaccinated  people_fully_vaccinated  daily_vaccinations_raw  \\\n",
            "0                    0.0                      NaN                     NaN   \n",
            "1                    NaN                      NaN                     NaN   \n",
            "2                    NaN                      NaN                     NaN   \n",
            "3                    NaN                      NaN                     NaN   \n",
            "4                    NaN                      NaN                     NaN   \n",
            "...                  ...                      ...                     ...   \n",
            "85069          2526832.0                2397677.0                  1756.0   \n",
            "85070          2527100.0                2398097.0                  2103.0   \n",
            "85071          2527184.0                2398322.0                   408.0   \n",
            "85072          2528051.0                2398676.0                  1477.0   \n",
            "85073          2528664.0                2399341.0                  2254.0   \n",
            "\n",
            "       daily_vaccinations  total_vaccinations_per_hundred  \\\n",
            "0                     NaN                            0.00   \n",
            "1                  1367.0                             NaN   \n",
            "2                  1367.0                             NaN   \n",
            "3                  1367.0                             NaN   \n",
            "4                  1367.0                             NaN   \n",
            "...                   ...                             ...   \n",
            "85069              1705.0                          218.33   \n",
            "85070              1667.0                          218.40   \n",
            "85071              1519.0                          218.41   \n",
            "85072              1505.0                          218.46   \n",
            "85073              1609.0                          218.53   \n",
            "\n",
            "       people_vaccinated_per_hundred  people_fully_vaccinated_per_hundred  \\\n",
            "0                               0.00                                  NaN   \n",
            "1                                NaN                                  NaN   \n",
            "2                                NaN                                  NaN   \n",
            "3                                NaN                                  NaN   \n",
            "4                                NaN                                  NaN   \n",
            "...                              ...                                  ...   \n",
            "85069                          79.71                                75.64   \n",
            "85070                          79.72                                75.65   \n",
            "85071                          79.72                                75.66   \n",
            "85072                          79.75                                75.67   \n",
            "85073                          79.77                                75.69   \n",
            "\n",
            "       daily_vaccinations_per_million  \\\n",
            "0                                 NaN   \n",
            "1                                34.0   \n",
            "2                                34.0   \n",
            "3                                34.0   \n",
            "4                                34.0   \n",
            "...                               ...   \n",
            "85069                           538.0   \n",
            "85070                           526.0   \n",
            "85071                           479.0   \n",
            "85072                           475.0   \n",
            "85073                           508.0   \n",
            "\n",
            "                                                vaccines  \\\n",
            "0      Johnson&Johnson, Oxford/AstraZeneca, Pfizer/Bi...   \n",
            "1      Johnson&Johnson, Oxford/AstraZeneca, Pfizer/Bi...   \n",
            "2      Johnson&Johnson, Oxford/AstraZeneca, Pfizer/Bi...   \n",
            "3      Johnson&Johnson, Oxford/AstraZeneca, Pfizer/Bi...   \n",
            "4      Johnson&Johnson, Oxford/AstraZeneca, Pfizer/Bi...   \n",
            "...                                                  ...   \n",
            "85069       Moderna, Oxford/AstraZeneca, Pfizer/BioNTech   \n",
            "85070       Moderna, Oxford/AstraZeneca, Pfizer/BioNTech   \n",
            "85071       Moderna, Oxford/AstraZeneca, Pfizer/BioNTech   \n",
            "85072       Moderna, Oxford/AstraZeneca, Pfizer/BioNTech   \n",
            "85073       Moderna, Oxford/AstraZeneca, Pfizer/BioNTech   \n",
            "\n",
            "                            source_name  \\\n",
            "0             World Health Organization   \n",
            "1             World Health Organization   \n",
            "2             World Health Organization   \n",
            "3             World Health Organization   \n",
            "4             World Health Organization   \n",
            "...                                 ...   \n",
            "85069  Government of the United Kingdom   \n",
            "85070  Government of the United Kingdom   \n",
            "85071  Government of the United Kingdom   \n",
            "85072  Government of the United Kingdom   \n",
            "85073  Government of the United Kingdom   \n",
            "\n",
            "                                          source_website  \n",
            "0                               https://covid19.who.int/  \n",
            "1                               https://covid19.who.int/  \n",
            "2                               https://covid19.who.int/  \n",
            "3                               https://covid19.who.int/  \n",
            "4                               https://covid19.who.int/  \n",
            "...                                                  ...  \n",
            "85069  https://coronavirus.data.gov.uk/details/vaccin...  \n",
            "85070  https://coronavirus.data.gov.uk/details/vaccin...  \n",
            "85071  https://coronavirus.data.gov.uk/details/vaccin...  \n",
            "85072  https://coronavirus.data.gov.uk/details/vaccin...  \n",
            "85073  https://coronavirus.data.gov.uk/details/vaccin...  \n",
            "\n",
            "[64193 rows x 15 columns]\n"
          ]
        }
      ]
    },
    {
      "cell_type": "markdown",
      "source": [
        "l. Almacenar los dataframes generados en un archivo de Excel denominado resultadoReto.xlsx donde cada data frame ocupe una hoja diferente."
      ],
      "metadata": {
        "id": "VEupoHtcYMpB"
      }
    },
    {
      "cell_type": "code",
      "source": [
        "\n",
        "# Crea un objeto ExcelWriter para guardar los DataFrames en un archivo de Excel\n",
        "excel_writer = pd.ExcelWriter('resultadoReto.xlsx', engine='openpyxl')\n",
        "\n",
        "# Almacena cada DataFrame en una hoja separada en el archivo de Excel\n",
        "conDiferencias.to_excel(excel_writer, sheet_name='conDiferencias', index=False)\n",
        "conCantidad.to_excel(excel_writer, sheet_name='conCantidad', index=False)\n",
        "antes20.to_excel(excel_writer, sheet_name='antes20', index=False)\n",
        "pfizer.to_excel(excel_writer, sheet_name='pfizer', index=False)\n",
        "\n",
        "# Guarda y cierra el archivo de Excel\n",
        "excel_writer.save()\n",
        "excel_writer.close()\n",
        "\n",
        "print(\"Los DataFrames han sido almacenados en el archivo 'resultadoReto.xlsx'\")\n"
      ],
      "metadata": {
        "colab": {
          "base_uri": "https://localhost:8080/"
        },
        "id": "IzPKzYQeZQf_",
        "outputId": "2ca3b626-ca78-4a66-80f6-a70225a7ad28"
      },
      "execution_count": null,
      "outputs": [
        {
          "output_type": "stream",
          "name": "stderr",
          "text": [
            "<ipython-input-23-687b3c0eec1a>:11: FutureWarning: save is not part of the public API, usage can give unexpected results and will be removed in a future version\n",
            "  excel_writer.save()\n"
          ]
        },
        {
          "output_type": "stream",
          "name": "stdout",
          "text": [
            "Los DataFrames han sido almacenados en el archivo 'resultadoReto.xlsx'\n"
          ]
        }
      ]
    }
  ]
}